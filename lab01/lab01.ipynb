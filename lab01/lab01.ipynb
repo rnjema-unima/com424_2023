{
 "cells": [
  {
   "cell_type": "code",
   "execution_count": 2,
   "metadata": {},
   "outputs": [],
   "source": [
    "import matplotlib.pyplot as plt\n",
    "import numpy as np\n",
    "from typing import Union\n",
    "%matplotlib inline\n",
    "rng_seed = 42"
   ]
  },
  {
   "cell_type": "raw",
   "metadata": {},
   "source": [
    "# ASSIGNMENT CONFIG\n",
    "config_file: ./lab_config.yaml\n",
    "name: lab_exercise_01"
   ]
  },
  {
   "cell_type": "markdown",
   "metadata": {},
   "source": [
    "# COM424 - Machine Learning\n",
    "## Lab Exercise 01\n",
    "Knowledge practice lab exercise on Machine Learning Foundations"
   ]
  },
  {
   "cell_type": "raw",
   "metadata": {},
   "source": [
    "# BEGIN QUESTION\n",
    "name : question1\n",
    "points : 3"
   ]
  },
  {
   "cell_type": "markdown",
   "metadata": {},
   "source": [
    "**Question 1.** Define a function called `even_ints` that returns a 1D `numpy` array of even positive integers given a specified range limit. Returned array must include the limit element if it is an even positive integer."
   ]
  },
  {
   "cell_type": "raw",
   "metadata": {},
   "source": [
    "# BEGIN SOLUTION"
   ]
  },
  {
   "cell_type": "code",
   "execution_count": 3,
   "metadata": {},
   "outputs": [],
   "source": [
    "def even_ints(limit : int) -> Union[np.ndarray,None]:\n",
    "    \"\"\" Generate a Numpy a array of even positive integers \"\"\"\n",
    "    # BEGIN SOLUTION\n",
    "    if isinstance(limit, int):\n",
    "        return np.array([x for x in range(limit + 1) if not x % 2], \n",
    "        dtype=np.int32)\n",
    "    else:\n",
    "        return None #ValueError(\"Limit must be an integer!\")\n",
    "    # END SOLUTION\n"
   ]
  },
  {
   "cell_type": "raw",
   "metadata": {},
   "source": [
    "# END SOLUTION"
   ]
  },
  {
   "cell_type": "raw",
   "metadata": {},
   "source": [
    "# BEGIN TESTS"
   ]
  },
  {
   "cell_type": "code",
   "execution_count": 4,
   "metadata": {},
   "outputs": [],
   "source": [
    "\"\"\" # BEGIN TEST CONFIG\n",
    "points : 3\n",
    "\"\"\" # END TEST CONFIG\n",
    "from math import ceil\n",
    "def test_odd_even_ints(limit):\n",
    "    assert isinstance(even_ints(limit), np.ndarray), \"Function must return a Numpy array\"\n",
    "    if isinstance(even_ints(limit), np.ndarray):\n",
    "        num_elements = (limit // 2)+1\n",
    "        assert even_ints(limit).shape == tuple([(limit // 2)+1]), \"Function must return a 1D array\"\n",
    "        \n",
    "\n",
    "test_odd_even_ints(2100) # IGNORE"
   ]
  },
  {
   "cell_type": "code",
   "execution_count": 5,
   "metadata": {},
   "outputs": [],
   "source": [
    "# HIDDEN\n",
    "def test_even_ints(limit):\n",
    "    assert np.all(even_ints(limit) == np.arange(0,limit+1,2))\n",
    "test_even_ints(1200)"
   ]
  },
  {
   "cell_type": "code",
   "execution_count": 6,
   "metadata": {},
   "outputs": [],
   "source": [
    "# HIDDEN\n",
    "def test_even_ints2(even_ints):\n",
    "    assert even_ints(241.9) == None"
   ]
  },
  {
   "cell_type": "raw",
   "metadata": {},
   "source": [
    "# END TESTS"
   ]
  },
  {
   "cell_type": "raw",
   "metadata": {},
   "source": [
    "# END QUESTION"
   ]
  },
  {
   "cell_type": "raw",
   "metadata": {},
   "source": [
    "# BEGIN QUESTION\n",
    "name : q2\n",
    "points : 4"
   ]
  },
  {
   "cell_type": "markdown",
   "metadata": {},
   "source": [
    "**Question 2.** Evaluate the following linear relations computationally:\n",
    "$$ 7x + 6y + 3z = 20 \\\\\n",
    "-4z + 4y + x = 14 \\\\\n",
    "4x + y = 10$$"
   ]
  },
  {
   "cell_type": "markdown",
   "metadata": {},
   "source": [
    "The solution should be a vector $u$"
   ]
  },
  {
   "cell_type": "raw",
   "metadata": {},
   "source": [
    "# BEGIN SOLUTION"
   ]
  },
  {
   "cell_type": "markdown",
   "metadata": {},
   "source": [
    "Create a matrix of `xyz` coefficients and 1D array of dependant variables."
   ]
  },
  {
   "cell_type": "code",
   "execution_count": 12,
   "metadata": {},
   "outputs": [],
   "source": [
    "X = np.array([[7,6,3],[1,4,-4],[4,1,0]]) # SOLUTION\n",
    "d = np.array([20,14,10]) # SOLUTION"
   ]
  },
  {
   "cell_type": "markdown",
   "metadata": {},
   "source": [
    "To solve for the unknown variables $u$, we need to find the inverse of the coefficient matrix $X$,because $$ X \\cdot u = d$$, where $d$ is a vector of dependent variables. Thus, $$ u = X^{-1} \\cdot d^{T} $$"
   ]
  },
  {
   "cell_type": "code",
   "execution_count": 11,
   "metadata": {},
   "outputs": [],
   "source": [
    "# BEGIN SOLUTION\n",
    "X_inv = np.linalg.inv(X)\n",
    "u = np.matmul(d,X_inv)\n",
    "# END SOLUTION"
   ]
  },
  {
   "cell_type": "markdown",
   "metadata": {},
   "source": [
    "Verify the elements of vector $u$ solve the set of equations"
   ]
  },
  {
   "cell_type": "code",
   "execution_count": 9,
   "metadata": {},
   "outputs": [
    {
     "name": "stdout",
     "output_type": "stream",
     "text": [
      "Vector u does solve the set of equations\n"
     ]
    }
   ],
   "source": [
    "# BEGIN SOLUTION\n",
    "d_prime = np.dot(u,X)\n",
    "verified = \"\" if np.all(d_prime == d) else \"not \"\n",
    "print(\"Vector u does {}solve the set of equations\".format(verified))\n",
    "# END SOLUTION"
   ]
  },
  {
   "cell_type": "raw",
   "metadata": {},
   "source": [
    "# END SOLUTION"
   ]
  },
  {
   "cell_type": "raw",
   "metadata": {},
   "source": [
    "# BEGIN TESTS"
   ]
  },
  {
   "cell_type": "code",
   "execution_count": 10,
   "metadata": {},
   "outputs": [],
   "source": [
    "assert np.allclose(u,np.array([2.60176991, -0.54867257,  0.5840708 ]))"
   ]
  },
  {
   "cell_type": "raw",
   "metadata": {},
   "source": [
    "# END TESTS"
   ]
  },
  {
   "cell_type": "raw",
   "metadata": {},
   "source": [
    "# END QUESTION"
   ]
  }
 ],
 "metadata": {
  "kernelspec": {
   "display_name": "com424",
   "language": "python",
   "name": "python3"
  },
  "language_info": {
   "codemirror_mode": {
    "name": "ipython",
    "version": 3
   },
   "file_extension": ".py",
   "mimetype": "text/x-python",
   "name": "python",
   "nbconvert_exporter": "python",
   "pygments_lexer": "ipython3",
   "version": "3.11.4"
  }
 },
 "nbformat": 4,
 "nbformat_minor": 2
}
